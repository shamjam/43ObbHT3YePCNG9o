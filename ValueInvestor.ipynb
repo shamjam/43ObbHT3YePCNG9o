{
 "cells": [
  {
   "cell_type": "markdown",
   "metadata": {},
   "source": [
    "# ValueInvestor\n",
    "We are looking to establish a robust intelligent system that can aid investment activities, using past stock performance data. \n",
    "\n",
    "Our goal in this project is to use provided historical trading data to predict future stock price valuations on a daily, weekly, and monthly basis. We also provide recommendations on whether to BUY, HOLD or SELL each stock based on the predictions."
   ]
  },
  {
   "cell_type": "markdown",
   "metadata": {},
   "source": [
    "### Data Description\n"
   ]
  },
  {
   "cell_type": "markdown",
   "metadata": {},
   "source": [
    "We are given trading data from 8 different countries in emerging markets that include the 2020 Q1-Q2-Q3-Q4 and 2021 Q1 stock prices. Each market's operating days varies based on the country of the company and the market the stocks are exchanged. We will only 2020 data and predict with 2021 Q1 data.\n",
    "\n",
    "Each set of data contain the following columns:\n",
    "- Date\n",
    "- Price (The closing price of the stock on a day)\n",
    "- Open (The opening price of the stock on a day)\n",
    "- High (The highest price of the stock on a day)\n",
    "- Low (The lowers price of the stock on a day)\n",
    "- Volume (The number of shares that were traded on a day)"
   ]
  },
  {
   "cell_type": "markdown",
   "metadata": {},
   "source": [
    "### Data Loading"
   ]
  },
  {
   "cell_type": "code",
   "execution_count": 2,
   "metadata": {},
   "outputs": [],
   "source": [
    "# Import the necessary packages\n",
    "import pandas as pd"
   ]
  },
  {
   "cell_type": "code",
   "execution_count": 7,
   "metadata": {},
   "outputs": [
    {
     "data": {
      "text/html": [
       "<div>\n",
       "<style scoped>\n",
       "    .dataframe tbody tr th:only-of-type {\n",
       "        vertical-align: middle;\n",
       "    }\n",
       "\n",
       "    .dataframe tbody tr th {\n",
       "        vertical-align: top;\n",
       "    }\n",
       "\n",
       "    .dataframe thead th {\n",
       "        text-align: right;\n",
       "    }\n",
       "</style>\n",
       "<table border=\"1\" class=\"dataframe\">\n",
       "  <thead>\n",
       "    <tr style=\"text-align: right;\">\n",
       "      <th></th>\n",
       "      <th>Date</th>\n",
       "      <th>Price</th>\n",
       "      <th>Open</th>\n",
       "      <th>High</th>\n",
       "      <th>Low</th>\n",
       "      <th>Vol.</th>\n",
       "      <th>Change %</th>\n",
       "    </tr>\n",
       "  </thead>\n",
       "  <tbody>\n",
       "    <tr>\n",
       "      <th>0</th>\n",
       "      <td>2021-03-31 00:00:00</td>\n",
       "      <td>291.02</td>\n",
       "      <td>294.0</td>\n",
       "      <td>294.42</td>\n",
       "      <td>290.26</td>\n",
       "      <td>47.00M</td>\n",
       "      <td>-0.0076</td>\n",
       "    </tr>\n",
       "    <tr>\n",
       "      <th>1</th>\n",
       "      <td>2021-03-30 00:00:00</td>\n",
       "      <td>293.25</td>\n",
       "      <td>294.86</td>\n",
       "      <td>295.72</td>\n",
       "      <td>291.5</td>\n",
       "      <td>38.81M</td>\n",
       "      <td>-0.0002</td>\n",
       "    </tr>\n",
       "    <tr>\n",
       "      <th>2</th>\n",
       "      <td>2021-03-29 00:00:00</td>\n",
       "      <td>293.3</td>\n",
       "      <td>289.72</td>\n",
       "      <td>294.09</td>\n",
       "      <td>289.26</td>\n",
       "      <td>43.68M</td>\n",
       "      <td>0.0071</td>\n",
       "    </tr>\n",
       "    <tr>\n",
       "      <th>3</th>\n",
       "      <td>2021-03-26 00:00:00</td>\n",
       "      <td>291.22</td>\n",
       "      <td>288.63</td>\n",
       "      <td>292.75</td>\n",
       "      <td>288.32</td>\n",
       "      <td>56.07M</td>\n",
       "      <td>0.0159</td>\n",
       "    </tr>\n",
       "    <tr>\n",
       "      <th>4</th>\n",
       "      <td>2021-03-25 00:00:00</td>\n",
       "      <td>286.66</td>\n",
       "      <td>286.5</td>\n",
       "      <td>287.03</td>\n",
       "      <td>283.85</td>\n",
       "      <td>35.22M</td>\n",
       "      <td>0.0030</td>\n",
       "    </tr>\n",
       "  </tbody>\n",
       "</table>\n",
       "</div>"
      ],
      "text/plain": [
       "                  Date   Price    Open    High     Low    Vol.  Change %\n",
       "0  2021-03-31 00:00:00  291.02   294.0  294.42  290.26  47.00M   -0.0076\n",
       "1  2021-03-30 00:00:00  293.25  294.86  295.72   291.5  38.81M   -0.0002\n",
       "2  2021-03-29 00:00:00   293.3  289.72  294.09  289.26  43.68M    0.0071\n",
       "3  2021-03-26 00:00:00  291.22  288.63  292.75  288.32  56.07M    0.0159\n",
       "4  2021-03-25 00:00:00  286.66   286.5  287.03  283.85  35.22M    0.0030"
      ]
     },
     "execution_count": 7,
     "metadata": {},
     "output_type": "execute_result"
    }
   ],
   "source": [
    "df = pd.read_excel(\"2020Q1Q2Q3Q4-2021Q1.csv\")\n",
    "df.head()"
   ]
  },
  {
   "cell_type": "markdown",
   "metadata": {},
   "source": [
    "### Data Exploration"
   ]
  },
  {
   "cell_type": "code",
   "execution_count": null,
   "metadata": {},
   "outputs": [],
   "source": []
  },
  {
   "cell_type": "markdown",
   "metadata": {},
   "source": [
    "### Create Model"
   ]
  },
  {
   "cell_type": "code",
   "execution_count": 7,
   "metadata": {},
   "outputs": [],
   "source": [
    "# Choose a model\n",
    "# TODO: Autoregressive integrated moving average"
   ]
  },
  {
   "cell_type": "code",
   "execution_count": 4,
   "metadata": {},
   "outputs": [],
   "source": [
    "# Split data into train and test sets"
   ]
  },
  {
   "cell_type": "code",
   "execution_count": 5,
   "metadata": {},
   "outputs": [],
   "source": [
    "# Fit model on the train set"
   ]
  },
  {
   "cell_type": "code",
   "execution_count": null,
   "metadata": {},
   "outputs": [],
   "source": []
  },
  {
   "cell_type": "code",
   "execution_count": 1,
   "metadata": {},
   "outputs": [],
   "source": []
  },
  {
   "cell_type": "markdown",
   "metadata": {},
   "source": [
    "### Forecast Future Unknown Data"
   ]
  },
  {
   "cell_type": "code",
   "execution_count": 6,
   "metadata": {},
   "outputs": [],
   "source": [
    "# Re-fit model on entire dataset"
   ]
  },
  {
   "cell_type": "markdown",
   "metadata": {},
   "source": [
    "### Summary"
   ]
  },
  {
   "cell_type": "markdown",
   "metadata": {},
   "source": []
  }
 ],
 "metadata": {
  "kernelspec": {
   "display_name": "Python 3.9.12 ('base')",
   "language": "python",
   "name": "python3"
  },
  "language_info": {
   "codemirror_mode": {
    "name": "ipython",
    "version": 3
   },
   "file_extension": ".py",
   "mimetype": "text/x-python",
   "name": "python",
   "nbconvert_exporter": "python",
   "pygments_lexer": "ipython3",
   "version": "3.9.12"
  },
  "orig_nbformat": 4,
  "vscode": {
   "interpreter": {
    "hash": "4ee26fe1b733e49b5e9fa8608c642cc714333caa53ea40918a0bfc303aae4b9a"
   }
  }
 },
 "nbformat": 4,
 "nbformat_minor": 2
}
