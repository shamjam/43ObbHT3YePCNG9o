{
 "cells": [
  {
   "cell_type": "markdown",
   "metadata": {},
   "source": [
    "# ValueInvestor\n",
    "We are looking to establish a robust intelligent system that can aid investment activities, using past stock performance data. \n",
    "\n",
    "Our goal in this project is to use provided historical trading data to predict future stock price valuations on a daily, weekly, and monthly basis. We also provide recommendations on whether to BUY, HOLD or SELL each stock based on the predictions."
   ]
  },
  {
   "cell_type": "markdown",
   "metadata": {},
   "source": [
    "### Data Description\n"
   ]
  },
  {
   "cell_type": "markdown",
   "metadata": {},
   "source": [
    "We are given trading data from 8 different countries in emerging markets that include the 2020 Q1-Q2-Q3-Q4 and 2021 Q1 stock prices. Each market's operating days varies based on the country of the company and the market the stocks are exchanged. We will only 2020 data and predict with 2021 Q1 data.\n",
    "\n",
    "Each set of data contain the following columns:\n",
    "- `Date`\n",
    "- `Price` (The closing price of the stock on a day)\n",
    "- `Open` (The opening price of the stock on a day)\n",
    "- `High` (The highest price of the stock on a day)\n",
    "- `Low` (The lowest price of the stock on a day)\n",
    "- `Vol.` (The volume/number of shares that were traded on a day)\n",
    "- `Change %` (The percentage change from the closing price of the previous day)"
   ]
  },
  {
   "cell_type": "markdown",
   "metadata": {},
   "source": [
    "### Data Loading\n",
    "Let's first load the data of the first sheet."
   ]
  },
  {
   "cell_type": "code",
   "execution_count": 36,
   "metadata": {},
   "outputs": [],
   "source": [
    "# Import the necessary packages\n",
    "import pandas as pd\n",
    "import matplotlib.pyplot as plt\n",
    "from datetime import datetime\n",
    "import seaborn as sns\n",
    "from statsmodels.tsa.stattools import adfuller"
   ]
  },
  {
   "cell_type": "code",
   "execution_count": 37,
   "metadata": {},
   "outputs": [],
   "source": [
    "df = pd.read_excel(\"2020Q1Q2Q3Q4-2021Q1.xlsx\", sheet_name=None)"
   ]
  },
  {
   "cell_type": "code",
   "execution_count": 38,
   "metadata": {},
   "outputs": [
    {
     "name": "stdout",
     "output_type": "stream",
     "text": [
      "dict_keys(['Russia - Sberbank Rossii PAO (S', 'Turkey - Koc Holding AS (KCHOL)', 'Egypt - Medinet Nasr Housing (M', 'Brazil - Minerva SABrazil (BEEF', 'Argentina - Pampa Energia SA (P', 'Colombia - Cementos Argos SA (C', 'South Africa - Impala Platinum ', 'South Korea - Dongkuk Steel Mil'])\n"
     ]
    }
   ],
   "source": [
    "print(df.keys())"
   ]
  },
  {
   "cell_type": "code",
   "execution_count": 39,
   "metadata": {},
   "outputs": [
    {
     "data": {
      "text/plain": [
       "count     311.0\n",
       "unique    303.0\n",
       "top       272.0\n",
       "freq        2.0\n",
       "Name: Price, dtype: float64"
      ]
     },
     "execution_count": 39,
     "metadata": {},
     "output_type": "execute_result"
    }
   ],
   "source": [
    "sheet1 = df[list(df.keys())[0]] # Extract the first shee\n",
    "sheet1 = sheet1.iloc[:-1,:] # Drop the last row\n",
    "sheet1[\"Price\"].describe(percentiles=[0.25, 0.5, 0.75])"
   ]
  },
  {
   "cell_type": "code",
   "execution_count": 40,
   "metadata": {},
   "outputs": [
    {
     "data": {
      "text/plain": [
       "count    311.000000\n",
       "mean     234.524019\n",
       "std       32.079847\n",
       "min      174.270000\n",
       "25%      207.700000\n",
       "50%      229.140000\n",
       "75%      264.380000\n",
       "max      293.300000\n",
       "Name: Price, dtype: float64"
      ]
     },
     "execution_count": 40,
     "metadata": {},
     "output_type": "execute_result"
    }
   ],
   "source": [
    "sheet1[\"Price\"].astype(float).describe()"
   ]
  },
  {
   "cell_type": "code",
   "execution_count": 41,
   "metadata": {},
   "outputs": [
    {
     "data": {
      "text/plain": [
       "count    311.000000\n",
       "mean       0.000668\n",
       "std        0.021931\n",
       "min       -0.095700\n",
       "25%       -0.010100\n",
       "50%        0.000400\n",
       "75%        0.012950\n",
       "max        0.129000\n",
       "Name: Change %, dtype: float64"
      ]
     },
     "execution_count": 41,
     "metadata": {},
     "output_type": "execute_result"
    }
   ],
   "source": [
    "sheet1[\"Change %\"].describe()"
   ]
  },
  {
   "cell_type": "markdown",
   "metadata": {},
   "source": [
    "### Data Exploration"
   ]
  },
  {
   "cell_type": "markdown",
   "metadata": {},
   "source": [
    "#### Check for missing values"
   ]
  },
  {
   "cell_type": "code",
   "execution_count": 42,
   "metadata": {},
   "outputs": [
    {
     "data": {
      "text/plain": [
       "Date        0\n",
       "Price       0\n",
       "Open        0\n",
       "High        0\n",
       "Low         0\n",
       "Vol.        0\n",
       "Change %    0\n",
       "dtype: int64"
      ]
     },
     "execution_count": 42,
     "metadata": {},
     "output_type": "execute_result"
    }
   ],
   "source": [
    "sheet1.isnull().sum()"
   ]
  },
  {
   "cell_type": "markdown",
   "metadata": {},
   "source": [
    "#### Check for outliers"
   ]
  },
  {
   "cell_type": "code",
   "execution_count": 43,
   "metadata": {},
   "outputs": [
    {
     "name": "stderr",
     "output_type": "stream",
     "text": [
      "/Users/shamil/opt/anaconda3/lib/python3.9/site-packages/seaborn/_decorators.py:36: FutureWarning: Pass the following variable as a keyword arg: x. From version 0.12, the only valid positional argument will be `data`, and passing other arguments without an explicit keyword will result in an error or misinterpretation.\n",
      "  warnings.warn(\n"
     ]
    },
    {
     "data": {
      "text/plain": [
       "<AxesSubplot:xlabel='Price'>"
      ]
     },
     "execution_count": 43,
     "metadata": {},
     "output_type": "execute_result"
    },
    {
     "data": {
      "image/png": "[encoded data removed]",
      "text/plain": [
       "<Figure size 432x288 with 1 Axes>"
      ]
     },
     "metadata": {
      "needs_background": "light"
     },
     "output_type": "display_data"
    }
   ],
   "source": [
    "sns.boxplot(sheet1[\"Price\"])"
   ]
  },
  {
   "cell_type": "code",
   "execution_count": 44,
   "metadata": {},
   "outputs": [
    {
     "name": "stderr",
     "output_type": "stream",
     "text": [
      "/Users/shamil/opt/anaconda3/lib/python3.9/site-packages/seaborn/_decorators.py:36: FutureWarning: Pass the following variable as a keyword arg: x. From version 0.12, the only valid positional argument will be `data`, and passing other arguments without an explicit keyword will result in an error or misinterpretation.\n",
      "  warnings.warn(\n"
     ]
    },
    {
     "data": {
      "text/plain": [
       "<AxesSubplot:xlabel='Open'>"
      ]
     },
     "execution_count": 44,
     "metadata": {},
     "output_type": "execute_result"
    },
    {
     "data": {
      "image/png": "[encoded data removed]",
      "text/plain": [
       "<Figure size 432x288 with 1 Axes>"
      ]
     },
     "metadata": {
      "needs_background": "light"
     },
     "output_type": "display_data"
    }
   ],
   "source": [
    "sns.boxplot(sheet1[\"Open\"])"
   ]
  },
  {
   "cell_type": "code",
   "execution_count": 45,
   "metadata": {},
   "outputs": [
    {
     "name": "stderr",
     "output_type": "stream",
     "text": [
      "/Users/shamil/opt/anaconda3/lib/python3.9/site-packages/seaborn/_decorators.py:36: FutureWarning: Pass the following variable as a keyword arg: x. From version 0.12, the only valid positional argument will be `data`, and passing other arguments without an explicit keyword will result in an error or misinterpretation.\n",
      "  warnings.warn(\n"
     ]
    },
    {
     "data": {
      "text/plain": [
       "<AxesSubplot:xlabel='High'>"
      ]
     },
     "execution_count": 45,
     "metadata": {},
     "output_type": "execute_result"
    },
    {
     "data": {
      "image/png": "[encoded data removed]",
      "text/plain": [
       "<Figure size 432x288 with 1 Axes>"
      ]
     },
     "metadata": {
      "needs_background": "light"
     },
     "output_type": "display_data"
    }
   ],
   "source": [
    "sns.boxplot(sheet1[\"High\"])"
   ]
  },
  {
   "cell_type": "code",
   "execution_count": 46,
   "metadata": {},
   "outputs": [
    {
     "name": "stderr",
     "output_type": "stream",
     "text": [
      "/Users/shamil/opt/anaconda3/lib/python3.9/site-packages/seaborn/_decorators.py:36: FutureWarning: Pass the following variable as a keyword arg: x. From version 0.12, the only valid positional argument will be `data`, and passing other arguments without an explicit keyword will result in an error or misinterpretation.\n",
      "  warnings.warn(\n"
     ]
    },
    {
     "data": {
      "text/plain": [
       "<AxesSubplot:xlabel='Low'>"
      ]
     },
     "execution_count": 46,
     "metadata": {},
     "output_type": "execute_result"
    },
    {
     "data": {
      "image/png": "[encoded data removed]",
      "text/plain": [
       "<Figure size 432x288 with 1 Axes>"
      ]
     },
     "metadata": {
      "needs_background": "light"
     },
     "output_type": "display_data"
    }
   ],
   "source": [
    "sns.boxplot(sheet1[\"Low\"])"
   ]
  },
  {
   "cell_type": "code",
   "execution_count": 47,
   "metadata": {},
   "outputs": [
    {
     "data": {
      "text/plain": [
       "0      47.00\n",
       "1      38.81\n",
       "2      43.68\n",
       "3      56.07\n",
       "4      35.22\n",
       "       ...  \n",
       "306    18.85\n",
       "307    38.33\n",
       "308    40.82\n",
       "309    22.35\n",
       "310    35.85\n",
       "Name: Vol., Length: 311, dtype: float64"
      ]
     },
     "execution_count": 47,
     "metadata": {},
     "output_type": "execute_result"
    }
   ],
   "source": [
    "sheet1['Vol.'].str[:-1].astype(float)"
   ]
  },
  {
   "cell_type": "code",
   "execution_count": 48,
   "metadata": {},
   "outputs": [
    {
     "name": "stderr",
     "output_type": "stream",
     "text": [
      "/Users/shamil/opt/anaconda3/lib/python3.9/site-packages/seaborn/_decorators.py:36: FutureWarning: Pass the following variable as a keyword arg: x. From version 0.12, the only valid positional argument will be `data`, and passing other arguments without an explicit keyword will result in an error or misinterpretation.\n",
      "  warnings.warn(\n"
     ]
    },
    {
     "data": {
      "text/plain": [
       "<AxesSubplot:xlabel='Vol.'>"
      ]
     },
     "execution_count": 48,
     "metadata": {},
     "output_type": "execute_result"
    },
    {
     "data": {
      "image/png": "[encoded data removed]",
      "text/plain": [
       "<Figure size 432x288 with 1 Axes>"
      ]
     },
     "metadata": {
      "needs_background": "light"
     },
     "output_type": "display_data"
    }
   ],
   "source": [
    "sns.boxplot(sheet1['Vol.'].str[:-1].astype(float))"
   ]
  },
  {
   "cell_type": "code",
   "execution_count": 49,
   "metadata": {},
   "outputs": [
    {
     "name": "stderr",
     "output_type": "stream",
     "text": [
      "/Users/shamil/opt/anaconda3/lib/python3.9/site-packages/seaborn/_decorators.py:36: FutureWarning: Pass the following variable as a keyword arg: x. From version 0.12, the only valid positional argument will be `data`, and passing other arguments without an explicit keyword will result in an error or misinterpretation.\n",
      "  warnings.warn(\n"
     ]
    },
    {
     "data": {
      "text/plain": [
       "<AxesSubplot:xlabel='Change %'>"
      ]
     },
     "execution_count": 49,
     "metadata": {},
     "output_type": "execute_result"
    },
    {
     "data": {
      "image/png": "[encoded data removed]",
      "text/plain": [
       "<Figure size 432x288 with 1 Axes>"
      ]
     },
     "metadata": {
      "needs_background": "light"
     },
     "output_type": "display_data"
    }
   ],
   "source": [
    "sns.boxplot(sheet1['Change %'])"
   ]
  },
  {
   "cell_type": "markdown",
   "metadata": {},
   "source": [
    "Plot the price over time."
   ]
  },
  {
   "cell_type": "code",
   "execution_count": 50,
   "metadata": {},
   "outputs": [
    {
     "name": "stderr",
     "output_type": "stream",
     "text": [
      "/var/folders/t7/d7p9g7d12w1fdy_jms911gtw0000gn/T/ipykernel_1609/1329123659.py:2: SettingWithCopyWarning: \n",
      "A value is trying to be set on a copy of a slice from a DataFrame.\n",
      "Try using .loc[row_indexer,col_indexer] = value instead\n",
      "\n",
      "See the caveats in the documentation: https://pandas.pydata.org/pandas-docs/stable/user_guide/indexing.html#returning-a-view-versus-a-copy\n",
      "  sheet1[\"Datetime\"] = pd.to_datetime(sheet1[\"Date\"],format='%Y-%m-%d %H:%M:%S')\n"
     ]
    },
    {
     "data": {
      "text/plain": [
       "Text(0, 0.5, 'Closing Price')"
      ]
     },
     "execution_count": 50,
     "metadata": {},
     "output_type": "execute_result"
    },
    {
     "data": {
      "image/png": "[encoded data removed]",
      "text/plain": [
       "<Figure size 2016x720 with 1 Axes>"
      ]
     },
     "metadata": {
      "needs_background": "light"
     },
     "output_type": "display_data"
    }
   ],
   "source": [
    "# Convert dates to DateTime\n",
    "sheet1[\"Datetime\"] = pd.to_datetime(sheet1[\"Date\"],format='%Y-%m-%d %H:%M:%S') \n",
    "plt.figure(figsize=(28, 10))\n",
    "plt.plot(sheet1[\"Datetime\"], sheet1[\"Price\"])\n",
    "plt.xlabel('Date')\n",
    "plt.ylabel('Closing Price')\n"
   ]
  },
  {
   "cell_type": "markdown",
   "metadata": {},
   "source": [
    "Check assumptions\n",
    "ARIMAX\n"
   ]
  },
  {
   "cell_type": "markdown",
   "metadata": {},
   "source": [
    "### ARIMA (Autoregressive integrated moving average)"
   ]
  },
  {
   "cell_type": "markdown",
   "metadata": {},
   "source": [
    "#### Check assumptions of the ARIMA model\n",
    "The following assumptions need to be satisified:\n",
    "- Data should be stationary\n",
    "- Data should be univariate\n",
    "\n",
    "To check that the data is stationary, we can use the ADF (Augmented Dickey-Fuller) Test."
   ]
  },
  {
   "cell_type": "code",
   "execution_count": 51,
   "metadata": {},
   "outputs": [
    {
     "data": {
      "image/png": "[encoded data removed]",
      "text/plain": [
       "<Figure size 432x288 with 1 Axes>"
      ]
     },
     "metadata": {
      "needs_background": "light"
     },
     "output_type": "display_data"
    },
    {
     "name": "stdout",
     "output_type": "stream",
     "text": [
      "Results of dickey fuller test\n",
      "Test Statistics                 -1.847182\n",
      "p-value                          0.357301\n",
      "No. of lags used                 8.000000\n",
      "Number of observations used    302.000000\n",
      "critical value (1%)             -3.452190\n",
      "critical value (5%)             -2.871158\n",
      "critical value (10%)            -2.571895\n",
      "dtype: float64\n"
     ]
    }
   ],
   "source": [
    "#Test for staionarity\n",
    "def test_stationarity(timeseries):\n",
    "    #Determing rolling statistics\n",
    "    rolmean = timeseries.rolling(12).mean()\n",
    "    rolstd = timeseries.rolling(12).std()\n",
    "    #Plot rolling statistics:\n",
    "    plt.plot(timeseries, color='blue',label='Original')\n",
    "    plt.plot(rolmean, color='red', label='Rolling Mean')\n",
    "    plt.plot(rolstd, color='black', label = 'Rolling Std')\n",
    "    plt.legend(loc='best')\n",
    "    plt.title('Rolling Mean and Standard Deviation')\n",
    "    plt.show(block=False)\n",
    "    print(\"Results of dickey fuller test\")\n",
    "    adft = adfuller(timeseries,autolag='AIC')\n",
    "    # output for dft will give us without defining what the values are.\n",
    "    #hence we manually write what values does it explains using a for loop\n",
    "    output = pd.Series(adft[0:4],index=['Test Statistics','p-value','No. of lags used','Number of observations used'])\n",
    "    for key,values in adft[4].items():\n",
    "        output['critical value (%s)'%key] =  values\n",
    "    print(output)\n",
    "test_stationarity(sheet1.Price)"
   ]
  },
  {
   "cell_type": "markdown",
   "metadata": {},
   "source": [
    "As the p-value > 0.05, we can't rule out the null hypothesis that a unit root exists in this sample."
   ]
  },
  {
   "cell_type": "markdown",
   "metadata": {},
   "source": [
    "Now lets split the data into training and testing data."
   ]
  },
  {
   "cell_type": "code",
   "execution_count": 59,
   "metadata": {},
   "outputs": [
    {
     "data": {
      "text/plain": [
       "0      False\n",
       "1      False\n",
       "2      False\n",
       "3      False\n",
       "4      False\n",
       "       ...  \n",
       "306    False\n",
       "307     True\n",
       "308     True\n",
       "309     True\n",
       "310     True\n",
       "Name: Datetime, Length: 311, dtype: bool"
      ]
     },
     "execution_count": 59,
     "metadata": {},
     "output_type": "execute_result"
    }
   ],
   "source": [
    "sheet1[\"Datetime\"] < datetime.strptime(\"2020-01-10\", \"%Y-%m-%d\")"
   ]
  },
  {
   "cell_type": "code",
   "execution_count": 69,
   "metadata": {},
   "outputs": [],
   "source": [
    "train_data = sheet1[sheet1[\"Datetime\"] < datetime.strptime(\"2020-10-01\", \"%Y-%m-%d\")]\n",
    "test_data = sheet1[(sheet1[\"Datetime\"] >= datetime.strptime(\"2020-10-01\", \"%Y-%m-%d\")) & (sheet1[\"Datetime\"] < datetime.strptime(\"2021-01-01\", \"%Y-%m-%d\"))]"
   ]
  },
  {
   "cell_type": "code",
   "execution_count": 70,
   "metadata": {},
   "outputs": [
    {
     "data": {
      "text/html": [
       "<div>\n",
       "<style scoped>\n",
       "    .dataframe tbody tr th:only-of-type {\n",
       "        vertical-align: middle;\n",
       "    }\n",
       "\n",
       "    .dataframe tbody tr th {\n",
       "        vertical-align: top;\n",
       "    }\n",
       "\n",
       "    .dataframe thead th {\n",
       "        text-align: right;\n",
       "    }\n",
       "</style>\n",
       "<table border=\"1\" class=\"dataframe\">\n",
       "  <thead>\n",
       "    <tr style=\"text-align: right;\">\n",
       "      <th></th>\n",
       "      <th>Date</th>\n",
       "      <th>Price</th>\n",
       "      <th>Open</th>\n",
       "      <th>High</th>\n",
       "      <th>Low</th>\n",
       "      <th>Vol.</th>\n",
       "      <th>Change %</th>\n",
       "      <th>Datetime</th>\n",
       "    </tr>\n",
       "  </thead>\n",
       "  <tbody>\n",
       "    <tr>\n",
       "      <th>310</th>\n",
       "      <td>2020-01-03 00:00:00</td>\n",
       "      <td>255.0</td>\n",
       "      <td>255.99</td>\n",
       "      <td>258.19</td>\n",
       "      <td>253.7</td>\n",
       "      <td>35.85M</td>\n",
       "      <td>0.0010</td>\n",
       "      <td>2020-01-03</td>\n",
       "    </tr>\n",
       "    <tr>\n",
       "      <th>309</th>\n",
       "      <td>2020-01-06 00:00:00</td>\n",
       "      <td>253.9</td>\n",
       "      <td>254.75</td>\n",
       "      <td>254.84</td>\n",
       "      <td>251.4</td>\n",
       "      <td>22.35M</td>\n",
       "      <td>-0.0043</td>\n",
       "      <td>2020-01-06</td>\n",
       "    </tr>\n",
       "    <tr>\n",
       "      <th>308</th>\n",
       "      <td>2020-01-08 00:00:00</td>\n",
       "      <td>259.15</td>\n",
       "      <td>253.57</td>\n",
       "      <td>259.15</td>\n",
       "      <td>253.03</td>\n",
       "      <td>40.82M</td>\n",
       "      <td>0.0207</td>\n",
       "      <td>2020-01-08</td>\n",
       "    </tr>\n",
       "    <tr>\n",
       "      <th>307</th>\n",
       "      <td>2020-01-09 00:00:00</td>\n",
       "      <td>257.99</td>\n",
       "      <td>259.4</td>\n",
       "      <td>261.76</td>\n",
       "      <td>257.01</td>\n",
       "      <td>38.33M</td>\n",
       "      <td>-0.0045</td>\n",
       "      <td>2020-01-09</td>\n",
       "    </tr>\n",
       "    <tr>\n",
       "      <th>306</th>\n",
       "      <td>2020-01-10 00:00:00</td>\n",
       "      <td>258.19</td>\n",
       "      <td>257.86</td>\n",
       "      <td>259.25</td>\n",
       "      <td>256.88</td>\n",
       "      <td>18.85M</td>\n",
       "      <td>0.0008</td>\n",
       "      <td>2020-01-10</td>\n",
       "    </tr>\n",
       "    <tr>\n",
       "      <th>...</th>\n",
       "      <td>...</td>\n",
       "      <td>...</td>\n",
       "      <td>...</td>\n",
       "      <td>...</td>\n",
       "      <td>...</td>\n",
       "      <td>...</td>\n",
       "      <td>...</td>\n",
       "      <td>...</td>\n",
       "    </tr>\n",
       "    <tr>\n",
       "      <th>129</th>\n",
       "      <td>2020-09-24 00:00:00</td>\n",
       "      <td>228.17</td>\n",
       "      <td>227.63</td>\n",
       "      <td>231.1</td>\n",
       "      <td>225.75</td>\n",
       "      <td>82.00M</td>\n",
       "      <td>-0.0014</td>\n",
       "      <td>2020-09-24</td>\n",
       "    </tr>\n",
       "    <tr>\n",
       "      <th>128</th>\n",
       "      <td>2020-09-25 00:00:00</td>\n",
       "      <td>228.24</td>\n",
       "      <td>229.0</td>\n",
       "      <td>229.3</td>\n",
       "      <td>226.25</td>\n",
       "      <td>60.25M</td>\n",
       "      <td>0.0003</td>\n",
       "      <td>2020-09-25</td>\n",
       "    </tr>\n",
       "    <tr>\n",
       "      <th>127</th>\n",
       "      <td>2020-09-28 00:00:00</td>\n",
       "      <td>228.63</td>\n",
       "      <td>228.79</td>\n",
       "      <td>229.55</td>\n",
       "      <td>227.35</td>\n",
       "      <td>64.52M</td>\n",
       "      <td>0.0017</td>\n",
       "      <td>2020-09-28</td>\n",
       "    </tr>\n",
       "    <tr>\n",
       "      <th>126</th>\n",
       "      <td>2020-09-29 00:00:00</td>\n",
       "      <td>225.48</td>\n",
       "      <td>228.88</td>\n",
       "      <td>228.88</td>\n",
       "      <td>223.1</td>\n",
       "      <td>90.42M</td>\n",
       "      <td>-0.0138</td>\n",
       "      <td>2020-09-29</td>\n",
       "    </tr>\n",
       "    <tr>\n",
       "      <th>125</th>\n",
       "      <td>2020-09-30 00:00:00</td>\n",
       "      <td>229.14</td>\n",
       "      <td>224.5</td>\n",
       "      <td>230.75</td>\n",
       "      <td>223.25</td>\n",
       "      <td>78.60M</td>\n",
       "      <td>0.0162</td>\n",
       "      <td>2020-09-30</td>\n",
       "    </tr>\n",
       "  </tbody>\n",
       "</table>\n",
       "<p>186 rows × 8 columns</p>\n",
       "</div>"
      ],
      "text/plain": [
       "                    Date   Price    Open    High     Low    Vol.  Change %  \\\n",
       "310  2020-01-03 00:00:00   255.0  255.99  258.19   253.7  35.85M    0.0010   \n",
       "309  2020-01-06 00:00:00   253.9  254.75  254.84   251.4  22.35M   -0.0043   \n",
       "308  2020-01-08 00:00:00  259.15  253.57  259.15  253.03  40.82M    0.0207   \n",
       "307  2020-01-09 00:00:00  257.99   259.4  261.76  257.01  38.33M   -0.0045   \n",
       "306  2020-01-10 00:00:00  258.19  257.86  259.25  256.88  18.85M    0.0008   \n",
       "..                   ...     ...     ...     ...     ...     ...       ...   \n",
       "129  2020-09-24 00:00:00  228.17  227.63   231.1  225.75  82.00M   -0.0014   \n",
       "128  2020-09-25 00:00:00  228.24   229.0   229.3  226.25  60.25M    0.0003   \n",
       "127  2020-09-28 00:00:00  228.63  228.79  229.55  227.35  64.52M    0.0017   \n",
       "126  2020-09-29 00:00:00  225.48  228.88  228.88   223.1  90.42M   -0.0138   \n",
       "125  2020-09-30 00:00:00  229.14   224.5  230.75  223.25  78.60M    0.0162   \n",
       "\n",
       "      Datetime  \n",
       "310 2020-01-03  \n",
       "309 2020-01-06  \n",
       "308 2020-01-08  \n",
       "307 2020-01-09  \n",
       "306 2020-01-10  \n",
       "..         ...  \n",
       "129 2020-09-24  \n",
       "128 2020-09-25  \n",
       "127 2020-09-28  \n",
       "126 2020-09-29  \n",
       "125 2020-09-30  \n",
       "\n",
       "[186 rows x 8 columns]"
      ]
     },
     "execution_count": 70,
     "metadata": {},
     "output_type": "execute_result"
    }
   ],
   "source": [
    "train_data.sort_values(by=\"Date\")"
   ]
  },
  {
   "cell_type": "code",
   "execution_count": 71,
   "metadata": {},
   "outputs": [
    {
     "data": {
      "text/html": [
       "<div>\n",
       "<style scoped>\n",
       "    .dataframe tbody tr th:only-of-type {\n",
       "        vertical-align: middle;\n",
       "    }\n",
       "\n",
       "    .dataframe tbody tr th {\n",
       "        vertical-align: top;\n",
       "    }\n",
       "\n",
       "    .dataframe thead th {\n",
       "        text-align: right;\n",
       "    }\n",
       "</style>\n",
       "<table border=\"1\" class=\"dataframe\">\n",
       "  <thead>\n",
       "    <tr style=\"text-align: right;\">\n",
       "      <th></th>\n",
       "      <th>Date</th>\n",
       "      <th>Price</th>\n",
       "      <th>Open</th>\n",
       "      <th>High</th>\n",
       "      <th>Low</th>\n",
       "      <th>Vol.</th>\n",
       "      <th>Change %</th>\n",
       "      <th>Datetime</th>\n",
       "    </tr>\n",
       "  </thead>\n",
       "  <tbody>\n",
       "    <tr>\n",
       "      <th>124</th>\n",
       "      <td>2020-10-01 00:00:00</td>\n",
       "      <td>227.23</td>\n",
       "      <td>229.08</td>\n",
       "      <td>229.9</td>\n",
       "      <td>226.86</td>\n",
       "      <td>77.83M</td>\n",
       "      <td>-0.0083</td>\n",
       "      <td>2020-10-01</td>\n",
       "    </tr>\n",
       "    <tr>\n",
       "      <th>123</th>\n",
       "      <td>2020-10-02 00:00:00</td>\n",
       "      <td>208.8</td>\n",
       "      <td>210.4</td>\n",
       "      <td>211.39</td>\n",
       "      <td>206.5</td>\n",
       "      <td>114.32M</td>\n",
       "      <td>-0.0811</td>\n",
       "      <td>2020-10-02</td>\n",
       "    </tr>\n",
       "    <tr>\n",
       "      <th>122</th>\n",
       "      <td>2020-10-05 00:00:00</td>\n",
       "      <td>208.89</td>\n",
       "      <td>209.65</td>\n",
       "      <td>210.69</td>\n",
       "      <td>207.72</td>\n",
       "      <td>45.60M</td>\n",
       "      <td>0.0004</td>\n",
       "      <td>2020-10-05</td>\n",
       "    </tr>\n",
       "    <tr>\n",
       "      <th>121</th>\n",
       "      <td>2020-10-06 00:00:00</td>\n",
       "      <td>211.18</td>\n",
       "      <td>209.0</td>\n",
       "      <td>212.99</td>\n",
       "      <td>208.35</td>\n",
       "      <td>87.53M</td>\n",
       "      <td>0.0110</td>\n",
       "      <td>2020-10-06</td>\n",
       "    </tr>\n",
       "    <tr>\n",
       "      <th>120</th>\n",
       "      <td>2020-10-07 00:00:00</td>\n",
       "      <td>210.6</td>\n",
       "      <td>211.3</td>\n",
       "      <td>212.66</td>\n",
       "      <td>209.03</td>\n",
       "      <td>62.05M</td>\n",
       "      <td>-0.0027</td>\n",
       "      <td>2020-10-07</td>\n",
       "    </tr>\n",
       "    <tr>\n",
       "      <th>...</th>\n",
       "      <td>...</td>\n",
       "      <td>...</td>\n",
       "      <td>...</td>\n",
       "      <td>...</td>\n",
       "      <td>...</td>\n",
       "      <td>...</td>\n",
       "      <td>...</td>\n",
       "      <td>...</td>\n",
       "    </tr>\n",
       "    <tr>\n",
       "      <th>65</th>\n",
       "      <td>2020-12-24 00:00:00</td>\n",
       "      <td>269.32</td>\n",
       "      <td>271.98</td>\n",
       "      <td>272.82</td>\n",
       "      <td>267.13</td>\n",
       "      <td>42.61M</td>\n",
       "      <td>-0.0029</td>\n",
       "      <td>2020-12-24</td>\n",
       "    </tr>\n",
       "    <tr>\n",
       "      <th>64</th>\n",
       "      <td>2020-12-25 00:00:00</td>\n",
       "      <td>270.64</td>\n",
       "      <td>269.97</td>\n",
       "      <td>271.0</td>\n",
       "      <td>268.28</td>\n",
       "      <td>11.99M</td>\n",
       "      <td>0.0049</td>\n",
       "      <td>2020-12-25</td>\n",
       "    </tr>\n",
       "    <tr>\n",
       "      <th>63</th>\n",
       "      <td>2020-12-28 00:00:00</td>\n",
       "      <td>274.7</td>\n",
       "      <td>270.9</td>\n",
       "      <td>275.19</td>\n",
       "      <td>269.73</td>\n",
       "      <td>39.04M</td>\n",
       "      <td>0.0150</td>\n",
       "      <td>2020-12-28</td>\n",
       "    </tr>\n",
       "    <tr>\n",
       "      <th>62</th>\n",
       "      <td>2020-12-29 00:00:00</td>\n",
       "      <td>272.0</td>\n",
       "      <td>275.91</td>\n",
       "      <td>276.43</td>\n",
       "      <td>271.26</td>\n",
       "      <td>39.02M</td>\n",
       "      <td>-0.0098</td>\n",
       "      <td>2020-12-29</td>\n",
       "    </tr>\n",
       "    <tr>\n",
       "      <th>61</th>\n",
       "      <td>2020-12-30 00:00:00</td>\n",
       "      <td>271.65</td>\n",
       "      <td>272.49</td>\n",
       "      <td>274.24</td>\n",
       "      <td>270.12</td>\n",
       "      <td>31.53M</td>\n",
       "      <td>-0.0013</td>\n",
       "      <td>2020-12-30</td>\n",
       "    </tr>\n",
       "  </tbody>\n",
       "</table>\n",
       "<p>64 rows × 8 columns</p>\n",
       "</div>"
      ],
      "text/plain": [
       "                    Date   Price    Open    High     Low     Vol.  Change %  \\\n",
       "124  2020-10-01 00:00:00  227.23  229.08   229.9  226.86   77.83M   -0.0083   \n",
       "123  2020-10-02 00:00:00   208.8   210.4  211.39   206.5  114.32M   -0.0811   \n",
       "122  2020-10-05 00:00:00  208.89  209.65  210.69  207.72   45.60M    0.0004   \n",
       "121  2020-10-06 00:00:00  211.18   209.0  212.99  208.35   87.53M    0.0110   \n",
       "120  2020-10-07 00:00:00   210.6   211.3  212.66  209.03   62.05M   -0.0027   \n",
       "..                   ...     ...     ...     ...     ...      ...       ...   \n",
       "65   2020-12-24 00:00:00  269.32  271.98  272.82  267.13   42.61M   -0.0029   \n",
       "64   2020-12-25 00:00:00  270.64  269.97   271.0  268.28   11.99M    0.0049   \n",
       "63   2020-12-28 00:00:00   274.7   270.9  275.19  269.73   39.04M    0.0150   \n",
       "62   2020-12-29 00:00:00   272.0  275.91  276.43  271.26   39.02M   -0.0098   \n",
       "61   2020-12-30 00:00:00  271.65  272.49  274.24  270.12   31.53M   -0.0013   \n",
       "\n",
       "      Datetime  \n",
       "124 2020-10-01  \n",
       "123 2020-10-02  \n",
       "122 2020-10-05  \n",
       "121 2020-10-06  \n",
       "120 2020-10-07  \n",
       "..         ...  \n",
       "65  2020-12-24  \n",
       "64  2020-12-25  \n",
       "63  2020-12-28  \n",
       "62  2020-12-29  \n",
       "61  2020-12-30  \n",
       "\n",
       "[64 rows x 8 columns]"
      ]
     },
     "execution_count": 71,
     "metadata": {},
     "output_type": "execute_result"
    }
   ],
   "source": [
    "test_data.sort_values(by=\"Date\")"
   ]
  },
  {
   "cell_type": "code",
   "execution_count": null,
   "metadata": {},
   "outputs": [],
   "source": [
    "train_data, test_data = sheet1[\"Price\"]"
   ]
  },
  {
   "cell_type": "code",
   "execution_count": null,
   "metadata": {},
   "outputs": [],
   "source": [
    "# Split data into train and test sets"
   ]
  },
  {
   "cell_type": "code",
   "execution_count": null,
   "metadata": {},
   "outputs": [],
   "source": [
    "# Fit model on the train set"
   ]
  },
  {
   "cell_type": "code",
   "execution_count": null,
   "metadata": {},
   "outputs": [],
   "source": []
  },
  {
   "cell_type": "markdown",
   "metadata": {},
   "source": [
    "### Forecast Future Unknown Data"
   ]
  },
  {
   "cell_type": "code",
   "execution_count": null,
   "metadata": {},
   "outputs": [],
   "source": []
  },
  {
   "cell_type": "markdown",
   "metadata": {},
   "source": [
    "### Summary"
   ]
  },
  {
   "cell_type": "markdown",
   "metadata": {},
   "source": []
  }
 ],
 "metadata": {
  "kernelspec": {
   "display_name": "Python 3.9.12 ('base')",
   "language": "python",
   "name": "python3"
  },
  "language_info": {
   "codemirror_mode": {
    "name": "ipython",
    "version": 3
   },
   "file_extension": ".py",
   "mimetype": "text/x-python",
   "name": "python",
   "nbconvert_exporter": "python",
   "pygments_lexer": "ipython3",
   "version": "3.9.12"
  },
  "orig_nbformat": 4,
  "vscode": {
   "interpreter": {
    "hash": "4ee26fe1b733e49b5e9fa8608c642cc714333caa53ea40918a0bfc303aae4b9a"
   }
  }
 },
 "nbformat": 4,
 "nbformat_minor": 2
}
